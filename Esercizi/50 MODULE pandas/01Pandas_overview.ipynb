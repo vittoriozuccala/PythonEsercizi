{
 "cells": [
  {
   "cell_type": "code",
   "execution_count": 1,
   "metadata": {},
   "outputs": [
    {
     "name": "stdout",
     "output_type": "stream",
     "text": [
      "Hello World!\n"
     ]
    }
   ],
   "source": [
    "print(\"Hello World!\")"
   ]
  },
  {
   "cell_type": "code",
   "execution_count": 2,
   "metadata": {},
   "outputs": [],
   "source": [
    "# Video https://www.youtube.com/watch?v=DkjCaAMBGWM\n",
    "import sqlite3 as sq\n",
    "import pandas as pd"
   ]
  },
  {
   "cell_type": "code",
   "execution_count": 3,
   "metadata": {},
   "outputs": [],
   "source": [
    "db = sq.connect('pokemon.db')\n",
    "cur = db.cursor()\n",
    "\n",
    "query = \"select * from pokemon;\"\n",
    "\n",
    "df = pd.read_sql_query(query,con=db)\n"
   ]
  },
  {
   "cell_type": "code",
   "execution_count": 4,
   "metadata": {},
   "outputs": [
    {
     "data": {
      "text/html": [
       "<div>\n",
       "<style scoped>\n",
       "    .dataframe tbody tr th:only-of-type {\n",
       "        vertical-align: middle;\n",
       "    }\n",
       "\n",
       "    .dataframe tbody tr th {\n",
       "        vertical-align: top;\n",
       "    }\n",
       "\n",
       "    .dataframe thead th {\n",
       "        text-align: right;\n",
       "    }\n",
       "</style>\n",
       "<table border=\"1\" class=\"dataframe\">\n",
       "  <thead>\n",
       "    <tr style=\"text-align: right;\">\n",
       "      <th></th>\n",
       "      <th>Name</th>\n",
       "      <th>Total</th>\n",
       "    </tr>\n",
       "  </thead>\n",
       "  <tbody>\n",
       "    <tr>\n",
       "      <th>0</th>\n",
       "      <td>Bulbasaur</td>\n",
       "      <td>318</td>\n",
       "    </tr>\n",
       "    <tr>\n",
       "      <th>1</th>\n",
       "      <td>Ivysaur</td>\n",
       "      <td>405</td>\n",
       "    </tr>\n",
       "    <tr>\n",
       "      <th>2</th>\n",
       "      <td>Venusaur</td>\n",
       "      <td>525</td>\n",
       "    </tr>\n",
       "    <tr>\n",
       "      <th>3</th>\n",
       "      <td>VenusaurMega Venusaur</td>\n",
       "      <td>625</td>\n",
       "    </tr>\n",
       "    <tr>\n",
       "      <th>4</th>\n",
       "      <td>Charmander</td>\n",
       "      <td>309</td>\n",
       "    </tr>\n",
       "    <tr>\n",
       "      <th>...</th>\n",
       "      <td>...</td>\n",
       "      <td>...</td>\n",
       "    </tr>\n",
       "    <tr>\n",
       "      <th>795</th>\n",
       "      <td>Diancie</td>\n",
       "      <td>600</td>\n",
       "    </tr>\n",
       "    <tr>\n",
       "      <th>796</th>\n",
       "      <td>DiancieMega Diancie</td>\n",
       "      <td>700</td>\n",
       "    </tr>\n",
       "    <tr>\n",
       "      <th>797</th>\n",
       "      <td>HoopaHoopa Confined</td>\n",
       "      <td>600</td>\n",
       "    </tr>\n",
       "    <tr>\n",
       "      <th>798</th>\n",
       "      <td>HoopaHoopa Unbound</td>\n",
       "      <td>680</td>\n",
       "    </tr>\n",
       "    <tr>\n",
       "      <th>799</th>\n",
       "      <td>Volcanion</td>\n",
       "      <td>600</td>\n",
       "    </tr>\n",
       "  </tbody>\n",
       "</table>\n",
       "<p>800 rows × 2 columns</p>\n",
       "</div>"
      ],
      "text/plain": [
       "                      Name  Total\n",
       "0                Bulbasaur    318\n",
       "1                  Ivysaur    405\n",
       "2                 Venusaur    525\n",
       "3    VenusaurMega Venusaur    625\n",
       "4               Charmander    309\n",
       "..                     ...    ...\n",
       "795                Diancie    600\n",
       "796    DiancieMega Diancie    700\n",
       "797    HoopaHoopa Confined    600\n",
       "798     HoopaHoopa Unbound    680\n",
       "799              Volcanion    600\n",
       "\n",
       "[800 rows x 2 columns]"
      ]
     },
     "execution_count": 4,
     "metadata": {},
     "output_type": "execute_result"
    }
   ],
   "source": [
    "# Visualizzazioni \n",
    "pd.set_option('display.max_rows', 100)\n",
    "df.head(5) #inizio\n",
    "df.tail(5) #fine\n",
    "df.sample(5) #campione anche come df.sample(frac=0.1) o df.sample(frac=0.1, random_state=520)\n",
    "df.columns\n",
    "df.index\n",
    "\n",
    "# Per vedere come sono i dati, ci sono una serie di metodi top down\n",
    "# df.info()  # Sarebbe un describe table con non-null fields e tipo di dato con MEMORY USAGE. df.info(verbose=False) per sintesi\n",
    "df.describe() # Per ogni campo dà il conteggio, media, devstd, min, max e clustes 25%, 50%, 75%\n",
    "df[['Name']].describe() # Posso avere descrizione anche di un singolo campo\n",
    "len(df) # len dice la lungehzza\n",
    "df.shape # shape mi dice lunghezza e numero colonne\n",
    "\n",
    "# slicing colonne\n",
    "df[['Name', 'Total']]  # Lista in parentesi quadre\n",
    "df[df.columns[:3]] # Le prime tre colonne\n",
    "df[[c for c in df.columns if c.startswith('Sp.')]]  #MOLTO INTERESSANTE\n",
    "df.select_dtypes('object') # selezionare solo gli int, float, text (object)\n",
    "\n",
    "# slicing righe\n",
    "# si usa iloc (usa gli indici) o loc(usa i nomi)\n",
    "df.iloc[1,:]\n",
    "df.iloc[:,[1,3]]\n",
    "df.loc[:,['Name','Total']]\n",
    "\n"
   ]
  },
  {
   "cell_type": "code",
   "execution_count": null,
   "metadata": {},
   "outputs": [],
   "source": [
    "# Espressioni booleane\n",
    "# Una delle funzioni più potenti è restituire un boolean da una espressione\n",
    "df['Name'] == 'Bulbasaur' # Il primo True, gli altri False\n",
    "df.loc[df['Name'] == 'Bulbasaur'] # Posso usarlo in loc\n",
    "df.loc[(df['Name'] == 'Bulbasaur') | (df['Name'] == 'Volcanion')] # Posso combinare con & oppure | statment o TILDE per il not\n",
    "\n",
    "# Query\n",
    "# Posso usare anche un linguaggio simile a query\n",
    "print(df.query('(Name.str.contains(\"saur\")) and (Total > 10)'))"
   ]
  }
 ],
 "metadata": {
  "kernelspec": {
   "display_name": ".venv",
   "language": "python",
   "name": "python3"
  },
  "language_info": {
   "codemirror_mode": {
    "name": "ipython",
    "version": 3
   },
   "file_extension": ".py",
   "mimetype": "text/x-python",
   "name": "python",
   "nbconvert_exporter": "python",
   "pygments_lexer": "ipython3",
   "version": "3.13.3"
  }
 },
 "nbformat": 4,
 "nbformat_minor": 2
}
