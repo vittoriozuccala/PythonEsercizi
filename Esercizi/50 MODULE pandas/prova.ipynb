{
 "cells": [
  {
   "cell_type": "code",
   "execution_count": null,
   "metadata": {},
   "outputs": [],
   "source": [
    "print(\"Hello World!\")"
   ]
  },
  {
   "cell_type": "code",
   "execution_count": null,
   "metadata": {},
   "outputs": [],
   "source": [
    "# Video https://www.youtube.com/watch?v=DkjCaAMBGWM\n",
    "import sqlite3 as sq\n",
    "import pandas as pd"
   ]
  },
  {
   "cell_type": "code",
   "execution_count": null,
   "metadata": {},
   "outputs": [],
   "source": [
    "db = sq.connect('pokemon.db')\n",
    "cur = db.cursor()\n",
    "\n",
    "query = \"select * from pokemon;\"\n",
    "\n",
    "df = pd.read_sql_query(query,con=db)\n",
    "\n",
    "\n",
    "# Visualizzazioni \n",
    "pd.set_option('display.max_rows', 100)\n",
    "df.head(5) #inizio\n",
    "df.tail(5) #fine\n",
    "df.sample(5) #campione anche come df.sample(frac=0.1) o df.sample(frac=0.1, random_state=520)\n",
    "df.columns\n",
    "df.index\n",
    "\n",
    "# Per vedere come sono i dati, ci sono una serie di metodi top down\n",
    "# df.info()  # Sarebbe un describe table con non-null fields e tipo di dato con MEMORY USAGE. df.info(verbose=False) per sintesi\n",
    "df.describe() # Per ogni campo dà il conteggio, media, devstd, min, max e clustes 25%, 50%, 75%\n",
    "df[['Name']].describe() # Posso avere descrizione anche di un singolo campo\n",
    "len(df) # len dice la lungehzza\n",
    "df.shape # shape mi dice lunghezza e numero colonne\n",
    "\n",
    "# slicing colonne\n",
    "df[['Name', 'Total']]  # Lista in parentesi quadre\n",
    "df[df.columns[:3]] # Le prime tre colonne\n",
    "df[[c for c in df.columns if c.startswith('Sp.')]]  #MOLTO INTERESSANTE\n",
    "df.select_dtypes('object') # selezionare solo gli int, float, text (object)\n",
    "\n",
    "# slicing righe\n",
    "# si usa iloc (usa gli indici) o loc(usa i nomi)\n",
    "df.iloc[1,:]\n",
    "df.iloc[:,[1,3]]\n",
    "df.loc[:,['Name','Total']]\n",
    "\n",
    "# Espressioni booleane\n",
    "# Una delle funzioni più potenti è restituire un boolean da una espressione\n",
    "df['Name'] == 'Bulbasaur' # Il primo True, gli altri False\n",
    "df.loc[df['Name'] == 'Bulbasaur'] # Posso usarlo in loc\n",
    "df.loc[(df['Name'] == 'Bulbasaur') | (df['Name'] == 'Volcanion')] # Posso combinare con & oppure | statment o TILDE per il not\n",
    "\n",
    "# Query\n",
    "# Posso usare anche un linguaggio simile a query\n",
    "print(df.query('(Name.str.contains(\"saur\")) and (Total > 10)'))"
   ]
  }
 ],
 "metadata": {
  "kernelspec": {
   "display_name": "env",
   "language": "python",
   "name": "python3"
  },
  "language_info": {
   "codemirror_mode": {
    "name": "ipython",
    "version": 3
   },
   "file_extension": ".py",
   "mimetype": "text/x-python",
   "name": "python",
   "nbconvert_exporter": "python",
   "pygments_lexer": "ipython3",
   "version": "3.13.3"
  }
 },
 "nbformat": 4,
 "nbformat_minor": 2
}
